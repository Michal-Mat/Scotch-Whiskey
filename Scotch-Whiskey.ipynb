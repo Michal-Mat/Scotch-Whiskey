{
 "cells": [
  {
   "cell_type": "markdown",
   "metadata": {},
   "source": [
    "# Scotch Whiskey analysis <a id='top'></a>\n",
    "\n",
    "<ul>\n",
    "<li>[Data preprocessing](#data_prep)\n",
    "<li>[Explanatory data analysis](#EDA)\n",
    "<li>[Assumptions and approach](#assumptions)\n",
    "<li>[Clustering](#clustering)\n",
    "<li>[Feature importances](#feat_imp)\n",
    "<li>[Conclusions](#conclusions)\n",
    "</ul>"
   ]
  },
  {
   "cell_type": "markdown",
   "metadata": {},
   "source": [
    "# Data preprocessing \n",
    "<a id='data_prep'></a>"
   ]
  },
  {
   "cell_type": "markdown",
   "metadata": {},
   "source": [
    "### Imports"
   ]
  },
  {
   "cell_type": "code",
   "execution_count": 791,
   "metadata": {},
   "outputs": [],
   "source": [
    "import pandas as pd\n",
    "import numpy as np\n",
    "import matplotlib.pyplot as plt\n",
    "import seaborn as sns\n",
    "from datetime import datetime\n",
    "import os\n",
    "from IPython.display import display"
   ]
  },
  {
   "cell_type": "markdown",
   "metadata": {},
   "source": [
    "### Helper functions"
   ]
  },
  {
   "cell_type": "code",
   "execution_count": 792,
   "metadata": {
    "collapsed": true
   },
   "outputs": [],
   "source": [
    "def load_dataset():\n",
    "    \"\"\"\n",
    "    Function return the dataframe with the loaded data\n",
    "    \"\"\"\n",
    "    filename = 'scotch.xlsx'\n",
    "    filepath = 'Scotch data (Windows)\\\\'\n",
    "    path = os.path.normpath(filepath + filename)\n",
    "    df = pd.read_excel(path, header=None)  # skipping headers until better understanding of the dataset\n",
    "    return df\n",
    "\n",
    "\n",
    "def load_txt(txt_filename):\n",
    "    \"\"\"\n",
    "    Function loads the txt file and return a dataframe with the data\n",
    "    \"\"\"\n",
    "    filepath = 'Scotch data (Windows)\\\\'\n",
    "    path = os.path.normpath(filepath + txt_filename)\n",
    "    f = open(path, mode='rt', newline='\\n')\n",
    "    f.close()\n",
    "    df = pd.read_csv(path, sep='')\n",
    "    return df\n",
    "\n",
    "\n",
    "\n",
    "def plot_bar_cat(columns, data, title):\n",
    "    \"\"\"\n",
    "    Function plots cumulative sum of the values in a bar plot\n",
    "    \"\"\"\n",
    "    sequence = df[columns].sum().sort_values(ascending=False)\n",
    "    plt.figure(figsize=(15,5))\n",
    "    plt.title(f'Whiskey '+ title, fontsize=16)\n",
    "    sns.barplot(x=sequence.index, y=sequence)\n",
    "    plt.xticks(rotation=45, fontsize=14)\n",
    "    plt.show()\n",
    "    pass\n",
    "\n",
    "\n",
    "def plot_bar_num(columns, data, title):\n",
    "    \"\"\"\n",
    "    Function plots counts of particular values in a bar plot\n",
    "    \"\"\"\n",
    "    to_plot = data[columns].value_counts().sort_values(ascending=True)\n",
    "    plt.figure(figsize=(15,5))\n",
    "    plt.title(f'Whiskey ' + title, fontsize=16)\n",
    "    sns.barplot(x=to_plot.index, y = to_plot)\n",
    "    plt.ylabel('Count', fontsize=14)\n",
    "    plt.show()\n",
    "    pass"
   ]
  },
  {
   "cell_type": "markdown",
   "metadata": {},
   "source": [
    "### Data structure"
   ]
  },
  {
   "cell_type": "markdown",
   "metadata": {},
   "source": [
    "<ul>\n",
    "<li> There are loose 'txt' files that contain different categorical variables in a columns\n",
    "<li> There is 'txt' file having location cooridinates of the distillery \n",
    "<li> 'txt' file with (109 x 109) array with distances between one distileery to the others\n",
    "<li> 'xlxs' file with all the variables aggregates but also containg other features not present elsewhere:\n",
    "<ul> \n",
    "<li> score\n",
    "<li> dist\n",
    "<li> age\n",
    "<li> %\n",
    "</ul>\n",
    "<ul> \n",
    "\n",
    "At this stage I am going to use aggregated excel file and perform cleaning and feature engineering."
   ]
  },
  {
   "cell_type": "code",
   "execution_count": 793,
   "metadata": {},
   "outputs": [
    {
     "data": {
      "text/plain": [
       "['BODY.TXT',\n",
       " 'COLOR.TXT',\n",
       " 'DIST-GEO.TXT',\n",
       " 'DISTCOOR.TXT',\n",
       " 'FINISH.TXT',\n",
       " 'NOSE.TXT',\n",
       " 'PALATE.TXT',\n",
       " 'readme.txt',\n",
       " 'REGIONS.TXT',\n",
       " 'SCOTCH.TXT',\n",
       " 'scotch.xlsx',\n",
       " '~$scotch.xlsx']"
      ]
     },
     "execution_count": 793,
     "metadata": {},
     "output_type": "execute_result"
    }
   ],
   "source": [
    "os.listdir('Scotch data (Windows)\\\\')"
   ]
  },
  {
   "cell_type": "markdown",
   "metadata": {},
   "source": [
    "Loading the dataset and displaying the first and last rows"
   ]
  },
  {
   "cell_type": "code",
   "execution_count": 794,
   "metadata": {
    "scrolled": false
   },
   "outputs": [
    {
     "data": {
      "text/html": [
       "<div>\n",
       "<style scoped>\n",
       "    .dataframe tbody tr th:only-of-type {\n",
       "        vertical-align: middle;\n",
       "    }\n",
       "\n",
       "    .dataframe tbody tr th {\n",
       "        vertical-align: top;\n",
       "    }\n",
       "\n",
       "    .dataframe thead th {\n",
       "        text-align: right;\n",
       "    }\n",
       "</style>\n",
       "<table border=\"1\" class=\"dataframe\">\n",
       "  <thead>\n",
       "    <tr style=\"text-align: right;\">\n",
       "      <th></th>\n",
       "      <th>0</th>\n",
       "      <th>1</th>\n",
       "      <th>2</th>\n",
       "      <th>3</th>\n",
       "      <th>4</th>\n",
       "      <th>5</th>\n",
       "      <th>6</th>\n",
       "      <th>7</th>\n",
       "      <th>8</th>\n",
       "      <th>9</th>\n",
       "      <th>...</th>\n",
       "      <th>75</th>\n",
       "      <th>76</th>\n",
       "      <th>77</th>\n",
       "      <th>78</th>\n",
       "      <th>79</th>\n",
       "      <th>80</th>\n",
       "      <th>81</th>\n",
       "      <th>82</th>\n",
       "      <th>83</th>\n",
       "      <th>84</th>\n",
       "    </tr>\n",
       "  </thead>\n",
       "  <tbody>\n",
       "    <tr>\n",
       "      <th>0</th>\n",
       "      <td>NaN</td>\n",
       "      <td>NaN</td>\n",
       "      <td>color</td>\n",
       "      <td>color</td>\n",
       "      <td>color</td>\n",
       "      <td>color</td>\n",
       "      <td>color</td>\n",
       "      <td>color</td>\n",
       "      <td>color</td>\n",
       "      <td>color</td>\n",
       "      <td>...</td>\n",
       "      <td>NaN</td>\n",
       "      <td>NaN</td>\n",
       "      <td>NaN</td>\n",
       "      <td>NaN</td>\n",
       "      <td>NaN</td>\n",
       "      <td>NaN</td>\n",
       "      <td>NaN</td>\n",
       "      <td>NaN</td>\n",
       "      <td>NaN</td>\n",
       "      <td>NaN</td>\n",
       "    </tr>\n",
       "    <tr>\n",
       "      <th>1</th>\n",
       "      <td>NAME</td>\n",
       "      <td>NaN</td>\n",
       "      <td>wyne</td>\n",
       "      <td>yellow</td>\n",
       "      <td>v.pale</td>\n",
       "      <td>pale</td>\n",
       "      <td>p.gold</td>\n",
       "      <td>gold</td>\n",
       "      <td>o.gold</td>\n",
       "      <td>f.gold</td>\n",
       "      <td>...</td>\n",
       "      <td>DISTRICT</td>\n",
       "      <td>islay</td>\n",
       "      <td>midland</td>\n",
       "      <td>spey</td>\n",
       "      <td>east</td>\n",
       "      <td>west</td>\n",
       "      <td>north</td>\n",
       "      <td>lowland</td>\n",
       "      <td>campbell</td>\n",
       "      <td>islands</td>\n",
       "    </tr>\n",
       "    <tr>\n",
       "      <th>2</th>\n",
       "      <td>Aberfeldy</td>\n",
       "      <td>Aberfeldy</td>\n",
       "      <td>0</td>\n",
       "      <td>1</td>\n",
       "      <td>0</td>\n",
       "      <td>0</td>\n",
       "      <td>0</td>\n",
       "      <td>0</td>\n",
       "      <td>0</td>\n",
       "      <td>0</td>\n",
       "      <td>...</td>\n",
       "      <td>MIDLAND</td>\n",
       "      <td>0</td>\n",
       "      <td>1</td>\n",
       "      <td>0</td>\n",
       "      <td>0</td>\n",
       "      <td>0</td>\n",
       "      <td>0</td>\n",
       "      <td>0</td>\n",
       "      <td>0</td>\n",
       "      <td>0</td>\n",
       "    </tr>\n",
       "    <tr>\n",
       "      <th>3</th>\n",
       "      <td>Aberlour</td>\n",
       "      <td>Aberlour</td>\n",
       "      <td>0</td>\n",
       "      <td>0</td>\n",
       "      <td>0</td>\n",
       "      <td>0</td>\n",
       "      <td>0</td>\n",
       "      <td>0</td>\n",
       "      <td>0</td>\n",
       "      <td>0</td>\n",
       "      <td>...</td>\n",
       "      <td>SPEY</td>\n",
       "      <td>0</td>\n",
       "      <td>0</td>\n",
       "      <td>1</td>\n",
       "      <td>0</td>\n",
       "      <td>0</td>\n",
       "      <td>0</td>\n",
       "      <td>0</td>\n",
       "      <td>0</td>\n",
       "      <td>0</td>\n",
       "    </tr>\n",
       "    <tr>\n",
       "      <th>4</th>\n",
       "      <td>Ardberg</td>\n",
       "      <td>Ardberg</td>\n",
       "      <td>0</td>\n",
       "      <td>0</td>\n",
       "      <td>0</td>\n",
       "      <td>0</td>\n",
       "      <td>0</td>\n",
       "      <td>0</td>\n",
       "      <td>0</td>\n",
       "      <td>0</td>\n",
       "      <td>...</td>\n",
       "      <td>SOUTH</td>\n",
       "      <td>1</td>\n",
       "      <td>0</td>\n",
       "      <td>0</td>\n",
       "      <td>0</td>\n",
       "      <td>0</td>\n",
       "      <td>0</td>\n",
       "      <td>0</td>\n",
       "      <td>0</td>\n",
       "      <td>0</td>\n",
       "    </tr>\n",
       "  </tbody>\n",
       "</table>\n",
       "<p>5 rows × 85 columns</p>\n",
       "</div>"
      ],
      "text/plain": [
       "          0          1      2       3       4      5       6      7       8   \\\n",
       "0        NaN        NaN  color   color   color  color   color  color   color   \n",
       "1       NAME        NaN   wyne  yellow  v.pale   pale  p.gold   gold  o.gold   \n",
       "2  Aberfeldy  Aberfeldy      0       1       0      0       0      0       0   \n",
       "3   Aberlour   Aberlour      0       0       0      0       0      0       0   \n",
       "4    Ardberg    Ardberg      0       0       0      0       0      0       0   \n",
       "\n",
       "       9    ...           75     76       77    78    79    80      81  \\\n",
       "0   color   ...          NaN    NaN      NaN   NaN   NaN   NaN     NaN   \n",
       "1  f.gold   ...     DISTRICT  islay  midland  spey  east  west  north    \n",
       "2       0   ...      MIDLAND      0        1     0     0     0       0   \n",
       "3       0   ...         SPEY      0        0     1     0     0       0   \n",
       "4       0   ...        SOUTH      1        0     0     0     0       0   \n",
       "\n",
       "        82        83       84  \n",
       "0      NaN       NaN      NaN  \n",
       "1  lowland  campbell  islands  \n",
       "2        0         0        0  \n",
       "3        0         0        0  \n",
       "4        0         0        0  \n",
       "\n",
       "[5 rows x 85 columns]"
      ]
     },
     "metadata": {},
     "output_type": "display_data"
    },
    {
     "data": {
      "text/html": [
       "<div>\n",
       "<style scoped>\n",
       "    .dataframe tbody tr th:only-of-type {\n",
       "        vertical-align: middle;\n",
       "    }\n",
       "\n",
       "    .dataframe tbody tr th {\n",
       "        vertical-align: top;\n",
       "    }\n",
       "\n",
       "    .dataframe thead th {\n",
       "        text-align: right;\n",
       "    }\n",
       "</style>\n",
       "<table border=\"1\" class=\"dataframe\">\n",
       "  <thead>\n",
       "    <tr style=\"text-align: right;\">\n",
       "      <th></th>\n",
       "      <th>0</th>\n",
       "      <th>1</th>\n",
       "      <th>2</th>\n",
       "      <th>3</th>\n",
       "      <th>4</th>\n",
       "      <th>5</th>\n",
       "      <th>6</th>\n",
       "      <th>7</th>\n",
       "      <th>8</th>\n",
       "      <th>9</th>\n",
       "      <th>...</th>\n",
       "      <th>75</th>\n",
       "      <th>76</th>\n",
       "      <th>77</th>\n",
       "      <th>78</th>\n",
       "      <th>79</th>\n",
       "      <th>80</th>\n",
       "      <th>81</th>\n",
       "      <th>82</th>\n",
       "      <th>83</th>\n",
       "      <th>84</th>\n",
       "    </tr>\n",
       "  </thead>\n",
       "  <tbody>\n",
       "    <tr>\n",
       "      <th>108</th>\n",
       "      <td>Tomintoul</td>\n",
       "      <td>Tomintoul</td>\n",
       "      <td>0</td>\n",
       "      <td>0</td>\n",
       "      <td>0</td>\n",
       "      <td>0</td>\n",
       "      <td>0</td>\n",
       "      <td>0</td>\n",
       "      <td>0</td>\n",
       "      <td>1</td>\n",
       "      <td>...</td>\n",
       "      <td>SPEY</td>\n",
       "      <td>0</td>\n",
       "      <td>0</td>\n",
       "      <td>1</td>\n",
       "      <td>0</td>\n",
       "      <td>0</td>\n",
       "      <td>0</td>\n",
       "      <td>0</td>\n",
       "      <td>0</td>\n",
       "      <td>0</td>\n",
       "    </tr>\n",
       "    <tr>\n",
       "      <th>109</th>\n",
       "      <td>Tormore</td>\n",
       "      <td>Tormore</td>\n",
       "      <td>0</td>\n",
       "      <td>0</td>\n",
       "      <td>0</td>\n",
       "      <td>0</td>\n",
       "      <td>0</td>\n",
       "      <td>0</td>\n",
       "      <td>0</td>\n",
       "      <td>1</td>\n",
       "      <td>...</td>\n",
       "      <td>SPEY</td>\n",
       "      <td>0</td>\n",
       "      <td>0</td>\n",
       "      <td>1</td>\n",
       "      <td>0</td>\n",
       "      <td>0</td>\n",
       "      <td>0</td>\n",
       "      <td>0</td>\n",
       "      <td>0</td>\n",
       "      <td>0</td>\n",
       "    </tr>\n",
       "    <tr>\n",
       "      <th>110</th>\n",
       "      <td>Tullibardine</td>\n",
       "      <td>Tullibardi</td>\n",
       "      <td>0</td>\n",
       "      <td>0</td>\n",
       "      <td>0</td>\n",
       "      <td>0</td>\n",
       "      <td>0</td>\n",
       "      <td>1</td>\n",
       "      <td>0</td>\n",
       "      <td>0</td>\n",
       "      <td>...</td>\n",
       "      <td>MIDLAND</td>\n",
       "      <td>0</td>\n",
       "      <td>1</td>\n",
       "      <td>0</td>\n",
       "      <td>0</td>\n",
       "      <td>0</td>\n",
       "      <td>0</td>\n",
       "      <td>0</td>\n",
       "      <td>0</td>\n",
       "      <td>0</td>\n",
       "    </tr>\n",
       "    <tr>\n",
       "      <th>111</th>\n",
       "      <td>NaN</td>\n",
       "      <td>NaN</td>\n",
       "      <td>NaN</td>\n",
       "      <td>NaN</td>\n",
       "      <td>NaN</td>\n",
       "      <td>NaN</td>\n",
       "      <td>NaN</td>\n",
       "      <td>NaN</td>\n",
       "      <td>NaN</td>\n",
       "      <td>NaN</td>\n",
       "      <td>...</td>\n",
       "      <td>NaN</td>\n",
       "      <td>NaN</td>\n",
       "      <td>NaN</td>\n",
       "      <td>NaN</td>\n",
       "      <td>NaN</td>\n",
       "      <td>NaN</td>\n",
       "      <td>NaN</td>\n",
       "      <td>NaN</td>\n",
       "      <td>NaN</td>\n",
       "      <td>NaN</td>\n",
       "    </tr>\n",
       "    <tr>\n",
       "      <th>112</th>\n",
       "      <td>NaN</td>\n",
       "      <td>NaN</td>\n",
       "      <td>8</td>\n",
       "      <td>2</td>\n",
       "      <td>2</td>\n",
       "      <td>4</td>\n",
       "      <td>10</td>\n",
       "      <td>21</td>\n",
       "      <td>2</td>\n",
       "      <td>27</td>\n",
       "      <td>...</td>\n",
       "      <td>NaN</td>\n",
       "      <td>7</td>\n",
       "      <td>6</td>\n",
       "      <td>57</td>\n",
       "      <td>10</td>\n",
       "      <td>5</td>\n",
       "      <td>7</td>\n",
       "      <td>9</td>\n",
       "      <td>3</td>\n",
       "      <td>5</td>\n",
       "    </tr>\n",
       "  </tbody>\n",
       "</table>\n",
       "<p>5 rows × 85 columns</p>\n",
       "</div>"
      ],
      "text/plain": [
       "               0           1    2    3    4    5    6    7    8    9  ...   \\\n",
       "108     Tomintoul   Tomintoul    0    0    0    0    0    0    0    1 ...    \n",
       "109       Tormore     Tormore    0    0    0    0    0    0    0    1 ...    \n",
       "110  Tullibardine  Tullibardi    0    0    0    0    0    1    0    0 ...    \n",
       "111           NaN         NaN  NaN  NaN  NaN  NaN  NaN  NaN  NaN  NaN ...    \n",
       "112           NaN         NaN    8    2    2    4   10   21    2   27 ...    \n",
       "\n",
       "          75   76   77   78   79   80   81   82   83   84  \n",
       "108     SPEY    0    0    1    0    0    0    0    0    0  \n",
       "109     SPEY    0    0    1    0    0    0    0    0    0  \n",
       "110  MIDLAND    0    1    0    0    0    0    0    0    0  \n",
       "111      NaN  NaN  NaN  NaN  NaN  NaN  NaN  NaN  NaN  NaN  \n",
       "112      NaN    7    6   57   10    5    7    9    3    5  \n",
       "\n",
       "[5 rows x 85 columns]"
      ]
     },
     "metadata": {},
     "output_type": "display_data"
    }
   ],
   "source": [
    "df = load_dataset()\n",
    "display(df.head())\n",
    "display(df.iloc[-5:,:])"
   ]
  },
  {
   "cell_type": "markdown",
   "metadata": {},
   "source": [
    "Some rows contain NaN values and redundant information."
   ]
  },
  {
   "cell_type": "markdown",
   "metadata": {},
   "source": [
    "### Data cleaning"
   ]
  },
  {
   "cell_type": "markdown",
   "metadata": {},
   "source": [
    "Assinging columns names and dropping rows "
   ]
  },
  {
   "cell_type": "code",
   "execution_count": 795,
   "metadata": {},
   "outputs": [],
   "source": [
    "df.columns = list(df.iloc[1,:])  # takes the names of columns in the 2nd row\n",
    "df.columns = [str(x).lower() for x in df.columns]  # change the names to string to deal with nan value\n",
    "\n",
    "df = df.iloc[2:111,:]  # dropping rows containing nan and insignificant information\n",
    "df.drop(labels=df.columns[1], axis=1, inplace=True)  # dropping columns that is a duplicate of the first\n",
    "df.reset_index(inplace=True)  # resetting rows index\n",
    "df.drop(labels=['index'], axis=1, inplace=True)"
   ]
  },
  {
   "cell_type": "markdown",
   "metadata": {},
   "source": [
    "Changing the names of the columns. Additionaly splitting into the main categories."
   ]
  },
  {
   "cell_type": "code",
   "execution_count": 796,
   "metadata": {
    "scrolled": true
   },
   "outputs": [
    {
     "name": "stdout",
     "output_type": "stream",
     "text": [
      "Index(['name', 'wyne', 'yellow', 'v.pale', 'pale', 'p.gold', 'gold', 'o.gold',\n",
      "       'f.gold', 'bronze', 'p.amber', 'amber', 'f.amber', 'red', 'sherry',\n",
      "       'aroma', 'peat', 'sweet', 'light', 'fresh', 'dry', 'fruit', 'grass',\n",
      "       'sea', 'sherry', 'spicy', 'rich', 'soft', 'med', 'full', 'round',\n",
      "       'smooth', 'light', 'firm', 'oily', 'full', 'dry', 'sherry', 'big',\n",
      "       'light', 'smooth', 'clean', 'fruit', 'grass', 'smoke', 'sweet', 'spice',\n",
      "       'oil', 'salt', 'arome', 'full', 'dry', 'warm', 'big', 'light', 'smooth',\n",
      "       'clean', 'fruit', 'grass', 'smoke', 'sweet', 'spice', 'oil', 'salt',\n",
      "       'arome', 'ling', 'long', 'very', 'quick', 'age', 'dist', 'score', '%',\n",
      "       'region', 'district', 'islay', 'midland', 'spey', 'east', 'west',\n",
      "       'north ', 'lowland', 'campbell', 'islands'],\n",
      "      dtype='object')\n"
     ]
    }
   ],
   "source": [
    "columns = df.columns\n",
    "print(columns)\n",
    "\n",
    "new_cols = []\n",
    "\n",
    "color_columns = []\n",
    "nose_columns = []\n",
    "body_columns = []\n",
    "pale_columns = []\n",
    "finish_columns = []\n",
    "\n",
    "for i, col in enumerate(columns):\n",
    "    if (i>=1) & (i<=14):\n",
    "        n_col = col + '_color'\n",
    "        color_columns.append(n_col)\n",
    "    elif (i>14) & (i<=27):\n",
    "        n_col = col + '_nose'\n",
    "        nose_columns.append(n_col)       \n",
    "    elif (i>27) & (i<=34):\n",
    "        n_col = col + '_body'\n",
    "        body_columns.append(n_col) \n",
    "    elif (i>34) & (i<=49):\n",
    "        n_col = col + '_pale'\n",
    "        pale_columns.append(n_col) \n",
    "    elif (i>49) & (i<=68):\n",
    "        n_col = col + '_finish'\n",
    "        finish_columns.append(n_col)        \n",
    "    else:\n",
    "        n_col = col\n",
    "        \n",
    "    new_cols.append(n_col)\n",
    "\n",
    "df.columns = new_cols"
   ]
  },
  {
   "cell_type": "markdown",
   "metadata": {},
   "source": [
    "Checking the categorical variables"
   ]
  },
  {
   "cell_type": "code",
   "execution_count": 797,
   "metadata": {},
   "outputs": [
    {
     "data": {
      "text/html": [
       "<div>\n",
       "<style scoped>\n",
       "    .dataframe tbody tr th:only-of-type {\n",
       "        vertical-align: middle;\n",
       "    }\n",
       "\n",
       "    .dataframe tbody tr th {\n",
       "        vertical-align: top;\n",
       "    }\n",
       "\n",
       "    .dataframe thead th {\n",
       "        text-align: right;\n",
       "    }\n",
       "</style>\n",
       "<table border=\"1\" class=\"dataframe\">\n",
       "  <thead>\n",
       "    <tr style=\"text-align: right;\">\n",
       "      <th></th>\n",
       "      <th>med_body</th>\n",
       "      <th>full_body</th>\n",
       "      <th>round_body</th>\n",
       "      <th>smooth_body</th>\n",
       "      <th>light_body</th>\n",
       "      <th>firm_body</th>\n",
       "      <th>oily_body</th>\n",
       "    </tr>\n",
       "  </thead>\n",
       "  <tbody>\n",
       "    <tr>\n",
       "      <th>0</th>\n",
       "      <td>1</td>\n",
       "      <td>0</td>\n",
       "      <td>0</td>\n",
       "      <td>0</td>\n",
       "      <td>0</td>\n",
       "      <td>0</td>\n",
       "      <td>0</td>\n",
       "    </tr>\n",
       "    <tr>\n",
       "      <th>1</th>\n",
       "      <td>1</td>\n",
       "      <td>1</td>\n",
       "      <td>1</td>\n",
       "      <td>1</td>\n",
       "      <td>0</td>\n",
       "      <td>0</td>\n",
       "      <td>0</td>\n",
       "    </tr>\n",
       "    <tr>\n",
       "      <th>2</th>\n",
       "      <td>1</td>\n",
       "      <td>1</td>\n",
       "      <td>0</td>\n",
       "      <td>0</td>\n",
       "      <td>1</td>\n",
       "      <td>1</td>\n",
       "      <td>0</td>\n",
       "    </tr>\n",
       "    <tr>\n",
       "      <th>3</th>\n",
       "      <td>0</td>\n",
       "      <td>1</td>\n",
       "      <td>0</td>\n",
       "      <td>0</td>\n",
       "      <td>0</td>\n",
       "      <td>0</td>\n",
       "      <td>0</td>\n",
       "    </tr>\n",
       "    <tr>\n",
       "      <th>4</th>\n",
       "      <td>0</td>\n",
       "      <td>0</td>\n",
       "      <td>0</td>\n",
       "      <td>0</td>\n",
       "      <td>0</td>\n",
       "      <td>0</td>\n",
       "      <td>0</td>\n",
       "    </tr>\n",
       "  </tbody>\n",
       "</table>\n",
       "</div>"
      ],
      "text/plain": [
       "  med_body full_body round_body smooth_body light_body firm_body oily_body\n",
       "0        1         0          0           0          0         0         0\n",
       "1        1         1          1           1          0         0         0\n",
       "2        1         1          0           0          1         1         0\n",
       "3        0         1          0           0          0         0         0\n",
       "4        0         0          0           0          0         0         0"
      ]
     },
     "execution_count": 797,
     "metadata": {},
     "output_type": "execute_result"
    }
   ],
   "source": [
    "df[body_columns].head()"
   ]
  },
  {
   "cell_type": "code",
   "execution_count": 798,
   "metadata": {},
   "outputs": [
    {
     "data": {
      "text/html": [
       "<div>\n",
       "<style scoped>\n",
       "    .dataframe tbody tr th:only-of-type {\n",
       "        vertical-align: middle;\n",
       "    }\n",
       "\n",
       "    .dataframe tbody tr th {\n",
       "        vertical-align: top;\n",
       "    }\n",
       "\n",
       "    .dataframe thead th {\n",
       "        text-align: right;\n",
       "    }\n",
       "</style>\n",
       "<table border=\"1\" class=\"dataframe\">\n",
       "  <thead>\n",
       "    <tr style=\"text-align: right;\">\n",
       "      <th></th>\n",
       "      <th>aroma_nose</th>\n",
       "      <th>peat_nose</th>\n",
       "      <th>sweet_nose</th>\n",
       "      <th>light_nose</th>\n",
       "      <th>fresh_nose</th>\n",
       "      <th>dry_nose</th>\n",
       "      <th>fruit_nose</th>\n",
       "      <th>grass_nose</th>\n",
       "      <th>sea_nose</th>\n",
       "      <th>sherry_nose</th>\n",
       "      <th>spicy_nose</th>\n",
       "      <th>rich_nose</th>\n",
       "      <th>soft_nose</th>\n",
       "    </tr>\n",
       "  </thead>\n",
       "  <tbody>\n",
       "    <tr>\n",
       "      <th>0</th>\n",
       "      <td>1</td>\n",
       "      <td>1</td>\n",
       "      <td>0</td>\n",
       "      <td>0</td>\n",
       "      <td>0</td>\n",
       "      <td>0</td>\n",
       "      <td>1</td>\n",
       "      <td>0</td>\n",
       "      <td>0</td>\n",
       "      <td>0</td>\n",
       "      <td>0</td>\n",
       "      <td>0</td>\n",
       "      <td>1</td>\n",
       "    </tr>\n",
       "    <tr>\n",
       "      <th>1</th>\n",
       "      <td>0</td>\n",
       "      <td>0</td>\n",
       "      <td>1</td>\n",
       "      <td>0</td>\n",
       "      <td>0</td>\n",
       "      <td>0</td>\n",
       "      <td>0</td>\n",
       "      <td>0</td>\n",
       "      <td>0</td>\n",
       "      <td>0</td>\n",
       "      <td>0</td>\n",
       "      <td>1</td>\n",
       "      <td>1</td>\n",
       "    </tr>\n",
       "    <tr>\n",
       "      <th>2</th>\n",
       "      <td>0</td>\n",
       "      <td>1</td>\n",
       "      <td>0</td>\n",
       "      <td>0</td>\n",
       "      <td>0</td>\n",
       "      <td>1</td>\n",
       "      <td>0</td>\n",
       "      <td>0</td>\n",
       "      <td>1</td>\n",
       "      <td>0</td>\n",
       "      <td>0</td>\n",
       "      <td>0</td>\n",
       "      <td>0</td>\n",
       "    </tr>\n",
       "    <tr>\n",
       "      <th>3</th>\n",
       "      <td>0</td>\n",
       "      <td>0</td>\n",
       "      <td>1</td>\n",
       "      <td>0</td>\n",
       "      <td>0</td>\n",
       "      <td>0</td>\n",
       "      <td>0</td>\n",
       "      <td>1</td>\n",
       "      <td>0</td>\n",
       "      <td>1</td>\n",
       "      <td>0</td>\n",
       "      <td>0</td>\n",
       "      <td>0</td>\n",
       "    </tr>\n",
       "    <tr>\n",
       "      <th>4</th>\n",
       "      <td>0</td>\n",
       "      <td>0</td>\n",
       "      <td>0</td>\n",
       "      <td>0</td>\n",
       "      <td>1</td>\n",
       "      <td>0</td>\n",
       "      <td>1</td>\n",
       "      <td>1</td>\n",
       "      <td>0</td>\n",
       "      <td>0</td>\n",
       "      <td>0</td>\n",
       "      <td>0</td>\n",
       "      <td>1</td>\n",
       "    </tr>\n",
       "  </tbody>\n",
       "</table>\n",
       "</div>"
      ],
      "text/plain": [
       "  aroma_nose peat_nose sweet_nose light_nose fresh_nose dry_nose fruit_nose  \\\n",
       "0          1         1          0          0          0        0          1   \n",
       "1          0         0          1          0          0        0          0   \n",
       "2          0         1          0          0          0        1          0   \n",
       "3          0         0          1          0          0        0          0   \n",
       "4          0         0          0          0          1        0          1   \n",
       "\n",
       "  grass_nose sea_nose sherry_nose spicy_nose rich_nose soft_nose  \n",
       "0          0        0           0          0         0         1  \n",
       "1          0        0           0          0         1         1  \n",
       "2          0        1           0          0         0         0  \n",
       "3          1        0           1          0         0         0  \n",
       "4          1        0           0          0         0         1  "
      ]
     },
     "execution_count": 798,
     "metadata": {},
     "output_type": "execute_result"
    }
   ],
   "source": [
    "df[nose_columns].head()"
   ]
  },
  {
   "cell_type": "markdown",
   "metadata": {},
   "source": [
    "It appears that the categories are not one hot encoded. A whiskey can have 1 in multiple columns within one category."
   ]
  },
  {
   "cell_type": "markdown",
   "metadata": {},
   "source": [
    "### Additional features cleaning"
   ]
  },
  {
   "cell_type": "markdown",
   "metadata": {},
   "source": [
    "Detected that numerical column age has negative values which might be an error. I am assuming that -9 is representing 9."
   ]
  },
  {
   "cell_type": "code",
   "execution_count": 799,
   "metadata": {},
   "outputs": [],
   "source": [
    "new_values = []\n",
    "for row in df.iterrows():\n",
    "    if row[1]['age'] == -9:\n",
    "        new_values.append(9)\n",
    "    else:\n",
    "        new_values.append(row[1]['age'])\n",
    "        \n",
    "df['age']=new_values"
   ]
  },
  {
   "cell_type": "markdown",
   "metadata": {},
   "source": [
    "Detected whitespaces as part of names which will cause inproper encoding later on. "
   ]
  },
  {
   "cell_type": "code",
   "execution_count": 800,
   "metadata": {
    "collapsed": true
   },
   "outputs": [],
   "source": [
    "df['region']=[s.strip() for s in df['region']]\n",
    "df['district']=[s.strip() for s in df['district']]"
   ]
  },
  {
   "cell_type": "markdown",
   "metadata": {},
   "source": [
    "Removing columns that do not hold numerical data in preparation of cleaning the values. "
   ]
  },
  {
   "cell_type": "code",
   "execution_count": 801,
   "metadata": {},
   "outputs": [],
   "source": [
    "cols_to_change = new_cols\n",
    "cols_to_change.remove('region')\n",
    "cols_to_change.remove('district')\n",
    "cols_to_change.remove('name')"
   ]
  },
  {
   "cell_type": "markdown",
   "metadata": {},
   "source": [
    "Changing from object type to int for the remaining columns"
   ]
  },
  {
   "cell_type": "code",
   "execution_count": 543,
   "metadata": {},
   "outputs": [],
   "source": [
    "for col in cols_to_change:\n",
    "    df[col] = [int(x) for x in df[col]]"
   ]
  },
  {
   "cell_type": "markdown",
   "metadata": {},
   "source": [
    "Checking if the types are int now:\n"
   ]
  },
  {
   "cell_type": "code",
   "execution_count": 544,
   "metadata": {
    "scrolled": true
   },
   "outputs": [
    {
     "name": "stdout",
     "output_type": "stream",
     "text": [
      "<class 'pandas.core.frame.DataFrame'>\n",
      "RangeIndex: 109 entries, 0 to 108\n",
      "Data columns (total 81 columns):\n",
      "wyne_color       109 non-null int64\n",
      "yellow_color     109 non-null int64\n",
      "v.pale_color     109 non-null int64\n",
      "pale_color       109 non-null int64\n",
      "p.gold_color     109 non-null int64\n",
      "gold_color       109 non-null int64\n",
      "o.gold_color     109 non-null int64\n",
      "f.gold_color     109 non-null int64\n",
      "bronze_color     109 non-null int64\n",
      "p.amber_color    109 non-null int64\n",
      "amber_color      109 non-null int64\n",
      "f.amber_color    109 non-null int64\n",
      "red_color        109 non-null int64\n",
      "sherry_color     109 non-null int64\n",
      "aroma_nose       109 non-null int64\n",
      "peat_nose        109 non-null int64\n",
      "sweet_nose       109 non-null int64\n",
      "light_nose       109 non-null int64\n",
      "fresh_nose       109 non-null int64\n",
      "dry_nose         109 non-null int64\n",
      "fruit_nose       109 non-null int64\n",
      "grass_nose       109 non-null int64\n",
      "sea_nose         109 non-null int64\n",
      "sherry_nose      109 non-null int64\n",
      "spicy_nose       109 non-null int64\n",
      "rich_nose        109 non-null int64\n",
      "soft_nose        109 non-null int64\n",
      "med_body         109 non-null int64\n",
      "full_body        109 non-null int64\n",
      "round_body       109 non-null int64\n",
      "smooth_body      109 non-null int64\n",
      "light_body       109 non-null int64\n",
      "firm_body        109 non-null int64\n",
      "oily_body        109 non-null int64\n",
      "full_pale        109 non-null int64\n",
      "dry_pale         109 non-null int64\n",
      "sherry_pale      109 non-null int64\n",
      "big_pale         109 non-null int64\n",
      "light_pale       109 non-null int64\n",
      "smooth_pale      109 non-null int64\n",
      "clean_pale       109 non-null int64\n",
      "fruit_pale       109 non-null int64\n",
      "grass_pale       109 non-null int64\n",
      "smoke_pale       109 non-null int64\n",
      "sweet_pale       109 non-null int64\n",
      "spice_pale       109 non-null int64\n",
      "oil_pale         109 non-null int64\n",
      "salt_pale        109 non-null int64\n",
      "arome_pale       109 non-null int64\n",
      "full_finish      109 non-null int64\n",
      "dry_finish       109 non-null int64\n",
      "warm_finish      109 non-null int64\n",
      "big_finish       109 non-null int64\n",
      "light_finish     109 non-null int64\n",
      "smooth_finish    109 non-null int64\n",
      "clean_finish     109 non-null int64\n",
      "fruit_finish     109 non-null int64\n",
      "grass_finish     109 non-null int64\n",
      "smoke_finish     109 non-null int64\n",
      "sweet_finish     109 non-null int64\n",
      "spice_finish     109 non-null int64\n",
      "oil_finish       109 non-null int64\n",
      "salt_finish      109 non-null int64\n",
      "arome_finish     109 non-null int64\n",
      "ling_finish      109 non-null int64\n",
      "long_finish      109 non-null int64\n",
      "very_finish      109 non-null int64\n",
      "quick_finish     109 non-null int64\n",
      "age              109 non-null int64\n",
      "dist             109 non-null int64\n",
      "score            109 non-null int64\n",
      "%                109 non-null int64\n",
      "islay            109 non-null int64\n",
      "midland          109 non-null int64\n",
      "spey             109 non-null int64\n",
      "east             109 non-null int64\n",
      "west             109 non-null int64\n",
      "north            109 non-null int64\n",
      "lowland          109 non-null int64\n",
      "campbell         109 non-null int64\n",
      "islands          109 non-null int64\n",
      "dtypes: int64(81)\n",
      "memory usage: 69.1 KB\n"
     ]
    }
   ],
   "source": [
    "df[cols_to_change].info()"
   ]
  },
  {
   "cell_type": "markdown",
   "metadata": {},
   "source": [
    "# EDA <a id='EDA'></a>\n",
    "[top](#top)"
   ]
  },
  {
   "cell_type": "markdown",
   "metadata": {},
   "source": [
    "I am going throught the features in the dataset to obtain some insight into the whiskey data gathered."
   ]
  },
  {
   "cell_type": "markdown",
   "metadata": {},
   "source": [
    "### Whiskey score"
   ]
  },
  {
   "cell_type": "code",
   "execution_count": 545,
   "metadata": {
    "scrolled": false
   },
   "outputs": [
    {
     "data": {
      "image/png": "[encoded data removed]",
      "text/plain": [
       "<Figure size 576x1800 with 1 Axes>"
      ]
     },
     "metadata": {},
     "output_type": "display_data"
    }
   ],
   "source": [
    "df.sort_values(by='score', axis=0, ascending=True, inplace=True)\n",
    "\n",
    "plt.figure(figsize=(8,25))\n",
    "plt.title('Whiskey score',fontsize=16)\n",
    "plt.ylabel('Name', fontsize=14)\n",
    "plt.grid()\n",
    "plt.barh(width=df.score, y=df.name)\n",
    "plt.show()"
   ]
  },
  {
   "cell_type": "markdown",
   "metadata": {},
   "source": [
    "### Whiskey features"
   ]
  },
  {
   "cell_type": "code",
   "execution_count": 802,
   "metadata": {
    "collapsed": true
   },
   "outputs": [],
   "source": [
    "titles_cat = ['Color', 'Nose', 'Body', 'Palate', 'Finish']\n",
    "col_list_cat = [color_columns, nose_columns, body_columns, pale_columns, finish_columns]"
   ]
  },
  {
   "cell_type": "code",
   "execution_count": 803,
   "metadata": {
    "scrolled": false
   },
   "outputs": [
    {
     "data": {
      "image/png": "[encoded data removed]",
      "text/plain": [
       "<Figure size 1080x360 with 1 Axes>"
      ]
     },
     "metadata": {},
     "output_type": "display_data"
    },
    {
     "data": {
      "image/png": "[encoded data removed]",
      "text/plain": [
       "<Figure size 1080x360 with 1 Axes>"
      ]
     },
     "metadata": {},
     "output_type": "display_data"
    },
    {
     "data": {
      "image/png": "[encoded data removed]",
      "text/plain": [
       "<Figure size 1080x360 with 1 Axes>"
      ]
     },
     "metadata": {},
     "output_type": "display_data"
    },
    {
     "data": {
      "image/png": "[encoded data removed]",
      "text/plain": [
       "<Figure size 1080x360 with 1 Axes>"
      ]
     },
     "metadata": {},
     "output_type": "display_data"
    },
    {
     "data": {
      "image/png": "[encoded data removed]",
      "text/plain": [
       "<Figure size 1080x360 with 1 Axes>"
      ]
     },
     "metadata": {},
     "output_type": "display_data"
    }
   ],
   "source": [
    "for i, item in enumerate(titles_cat):\n",
    "    plot_bar_cat(col_list_cat[i], df, item)"
   ]
  },
  {
   "cell_type": "code",
   "execution_count": 548,
   "metadata": {},
   "outputs": [
    {
     "data": {
      "image/png": "[encoded data removed]",
      "text/plain": [
       "<Figure size 1080x360 with 1 Axes>"
      ]
     },
     "metadata": {},
     "output_type": "display_data"
    },
    {
     "data": {
      "image/png": "[encoded data removed]",
      "text/plain": [
       "<Figure size 1080x360 with 1 Axes>"
      ]
     },
     "metadata": {},
     "output_type": "display_data"
    },
    {
     "data": {
      "image/png": "[encoded data removed]",
      "text/plain": [
       "<Figure size 1080x360 with 1 Axes>"
      ]
     },
     "metadata": {},
     "output_type": "display_data"
    }
   ],
   "source": [
    "titles = ['Age', 'Times Distilled', 'Alcohol %']\n",
    "cols = ['age', 'dist', '%']\n",
    "\n",
    "for i, item in enumerate(titles):\n",
    "    plot_bar_num(cols[i], df, item)"
   ]
  },
  {
   "cell_type": "code",
   "execution_count": 549,
   "metadata": {},
   "outputs": [
    {
     "data": {
      "image/png": "[encoded data removed]",
      "text/plain": [
       "<Figure size 1080x360 with 1 Axes>"
      ]
     },
     "metadata": {},
     "output_type": "display_data"
    }
   ],
   "source": [
    "regions_cat = ['islay', 'midland', 'spey',\n",
    "       'east', 'west', 'north ', 'lowland', 'campbell', 'islands']\n",
    "\n",
    "plot_bar_cat(regions_cat, df, 'Regions categorical')"
   ]
  },
  {
   "cell_type": "code",
   "execution_count": 550,
   "metadata": {},
   "outputs": [
    {
     "data": {
      "image/png": "[encoded data removed]",
      "text/plain": [
       "<Figure size 1080x360 with 1 Axes>"
      ]
     },
     "metadata": {},
     "output_type": "display_data"
    }
   ],
   "source": [
    "plot_bar_num('region', df, 'Region')"
   ]
  },
  {
   "cell_type": "code",
   "execution_count": 551,
   "metadata": {
    "scrolled": true
   },
   "outputs": [
    {
     "data": {
      "image/png": "[encoded data removed]",
      "text/plain": [
       "<Figure size 1080x360 with 1 Axes>"
      ]
     },
     "metadata": {},
     "output_type": "display_data"
    }
   ],
   "source": [
    "plot_bar_num('district', df, 'District')"
   ]
  },
  {
   "cell_type": "markdown",
   "metadata": {},
   "source": [
    "### Checks in preparation of the summary"
   ]
  },
  {
   "cell_type": "code",
   "execution_count": 552,
   "metadata": {},
   "outputs": [
    {
     "data": {
      "text/html": [
       "<div>\n",
       "<style scoped>\n",
       "    .dataframe tbody tr th:only-of-type {\n",
       "        vertical-align: middle;\n",
       "    }\n",
       "\n",
       "    .dataframe tbody tr th {\n",
       "        vertical-align: top;\n",
       "    }\n",
       "\n",
       "    .dataframe thead th {\n",
       "        text-align: right;\n",
       "    }\n",
       "</style>\n",
       "<table border=\"1\" class=\"dataframe\">\n",
       "  <thead>\n",
       "    <tr style=\"text-align: right;\">\n",
       "      <th></th>\n",
       "      <th>age</th>\n",
       "      <th>%</th>\n",
       "      <th>score</th>\n",
       "      <th>dist</th>\n",
       "    </tr>\n",
       "  </thead>\n",
       "  <tbody>\n",
       "    <tr>\n",
       "      <th>count</th>\n",
       "      <td>109.000000</td>\n",
       "      <td>109.000000</td>\n",
       "      <td>109.000000</td>\n",
       "      <td>109.000000</td>\n",
       "    </tr>\n",
       "    <tr>\n",
       "      <th>mean</th>\n",
       "      <td>10.467890</td>\n",
       "      <td>41.128440</td>\n",
       "      <td>75.587156</td>\n",
       "      <td>3.192661</td>\n",
       "    </tr>\n",
       "    <tr>\n",
       "      <th>std</th>\n",
       "      <td>2.295603</td>\n",
       "      <td>2.617961</td>\n",
       "      <td>6.947170</td>\n",
       "      <td>0.855019</td>\n",
       "    </tr>\n",
       "    <tr>\n",
       "      <th>min</th>\n",
       "      <td>8.000000</td>\n",
       "      <td>40.000000</td>\n",
       "      <td>55.000000</td>\n",
       "      <td>1.000000</td>\n",
       "    </tr>\n",
       "    <tr>\n",
       "      <th>25%</th>\n",
       "      <td>9.000000</td>\n",
       "      <td>40.000000</td>\n",
       "      <td>71.000000</td>\n",
       "      <td>3.000000</td>\n",
       "    </tr>\n",
       "    <tr>\n",
       "      <th>50%</th>\n",
       "      <td>10.000000</td>\n",
       "      <td>40.000000</td>\n",
       "      <td>76.000000</td>\n",
       "      <td>3.000000</td>\n",
       "    </tr>\n",
       "    <tr>\n",
       "      <th>75%</th>\n",
       "      <td>12.000000</td>\n",
       "      <td>40.000000</td>\n",
       "      <td>79.000000</td>\n",
       "      <td>4.000000</td>\n",
       "    </tr>\n",
       "    <tr>\n",
       "      <th>max</th>\n",
       "      <td>20.000000</td>\n",
       "      <td>57.000000</td>\n",
       "      <td>90.000000</td>\n",
       "      <td>5.000000</td>\n",
       "    </tr>\n",
       "  </tbody>\n",
       "</table>\n",
       "</div>"
      ],
      "text/plain": [
       "              age           %       score        dist\n",
       "count  109.000000  109.000000  109.000000  109.000000\n",
       "mean    10.467890   41.128440   75.587156    3.192661\n",
       "std      2.295603    2.617961    6.947170    0.855019\n",
       "min      8.000000   40.000000   55.000000    1.000000\n",
       "25%      9.000000   40.000000   71.000000    3.000000\n",
       "50%     10.000000   40.000000   76.000000    3.000000\n",
       "75%     12.000000   40.000000   79.000000    4.000000\n",
       "max     20.000000   57.000000   90.000000    5.000000"
      ]
     },
     "execution_count": 552,
     "metadata": {},
     "output_type": "execute_result"
    }
   ],
   "source": [
    "df[['age','%','score','dist']].describe()"
   ]
  },
  {
   "cell_type": "code",
   "execution_count": 553,
   "metadata": {},
   "outputs": [
    {
     "data": {
      "text/plain": [
       "15"
      ]
     },
     "execution_count": 553,
     "metadata": {},
     "output_type": "execute_result"
    }
   ],
   "source": [
    "len(df['district'].unique())"
   ]
  },
  {
   "cell_type": "code",
   "execution_count": 554,
   "metadata": {},
   "outputs": [
    {
     "data": {
      "text/plain": [
       "52.293577981651374"
      ]
     },
     "execution_count": 554,
     "metadata": {},
     "output_type": "execute_result"
    }
   ],
   "source": [
    "len(df.loc[df['district']=='SPEY'])/109*100"
   ]
  },
  {
   "cell_type": "code",
   "execution_count": 555,
   "metadata": {},
   "outputs": [
    {
     "data": {
      "text/plain": [
       "81.65137614678899"
      ]
     },
     "execution_count": 555,
     "metadata": {},
     "output_type": "execute_result"
    }
   ],
   "source": [
    "len(df.loc[df['region']=='HIGH'])/109*100"
   ]
  },
  {
   "cell_type": "code",
   "execution_count": 556,
   "metadata": {},
   "outputs": [],
   "source": [
    "regions_cat = ['islay', 'midland', 'spey',\n",
    "       'east', 'west', 'north ', 'lowland', 'campbell', 'islands']"
   ]
  },
  {
   "cell_type": "code",
   "execution_count": 557,
   "metadata": {},
   "outputs": [
    {
     "data": {
      "text/plain": [
       "52.293577981651374"
      ]
     },
     "execution_count": 557,
     "metadata": {},
     "output_type": "execute_result"
    }
   ],
   "source": [
    "df['spey'].sum()/109*100"
   ]
  },
  {
   "cell_type": "code",
   "execution_count": 558,
   "metadata": {},
   "outputs": [
    {
     "data": {
      "text/plain": [
       "islay        7\n",
       "midland      6\n",
       "spey        57\n",
       "east        10\n",
       "west         5\n",
       "north        7\n",
       "lowland      9\n",
       "campbell     3\n",
       "islands      5\n",
       "dtype: int64"
      ]
     },
     "execution_count": 558,
     "metadata": {},
     "output_type": "execute_result"
    }
   ],
   "source": [
    "df[regions_cat].sum()"
   ]
  },
  {
   "cell_type": "code",
   "execution_count": 559,
   "metadata": {},
   "outputs": [
    {
     "data": {
      "text/plain": [
       "SPEY         57\n",
       "EAST         10\n",
       "NORTH         9\n",
       "WEST          9\n",
       "MIDLAND       6\n",
       "SOUTH         4\n",
       "CAMPBEL       3\n",
       "LOCH          2\n",
       "CENTRAL       2\n",
       "ORKNEY        2\n",
       "SKYE          1\n",
       "NORTHWEST     1\n",
       "BORDERS       1\n",
       "MULL          1\n",
       "JURA          1\n",
       "Name: district, dtype: int64"
      ]
     },
     "execution_count": 559,
     "metadata": {},
     "output_type": "execute_result"
    }
   ],
   "source": [
    "df.district.value_counts()"
   ]
  },
  {
   "cell_type": "code",
   "execution_count": 560,
   "metadata": {},
   "outputs": [
    {
     "data": {
      "text/plain": [
       "9     37\n",
       "12    29\n",
       "10    23\n",
       "8     12\n",
       "18     2\n",
       "17     2\n",
       "15     2\n",
       "20     1\n",
       "14     1\n",
       "Name: age, dtype: int64"
      ]
     },
     "execution_count": 560,
     "metadata": {},
     "output_type": "execute_result"
    }
   ],
   "source": [
    "df.age.value_counts()"
   ]
  },
  {
   "cell_type": "code",
   "execution_count": 561,
   "metadata": {},
   "outputs": [
    {
     "data": {
      "text/plain": [
       "3    50\n",
       "4    30\n",
       "2    21\n",
       "5     7\n",
       "1     1\n",
       "Name: dist, dtype: int64"
      ]
     },
     "execution_count": 561,
     "metadata": {},
     "output_type": "execute_result"
    }
   ],
   "source": [
    "df.dist.value_counts()"
   ]
  },
  {
   "cell_type": "code",
   "execution_count": 562,
   "metadata": {
    "scrolled": true
   },
   "outputs": [
    {
     "data": {
      "text/plain": [
       "40    83\n",
       "43    17\n",
       "46     6\n",
       "57     1\n",
       "54     1\n",
       "45     1\n",
       "Name: %, dtype: int64"
      ]
     },
     "execution_count": 562,
     "metadata": {},
     "output_type": "execute_result"
    }
   ],
   "source": [
    "df['%'].value_counts()"
   ]
  },
  {
   "cell_type": "markdown",
   "metadata": {},
   "source": [
    "## EDA summary"
   ]
  },
  {
   "cell_type": "markdown",
   "metadata": {},
   "source": [
    "The dataset holds data for 109 whiskeys that come from different distilleries, regions and have different features that distinguish one from the other.<br><br>\n",
    "The main categorical variables connected to the whiskey's taste are:\n",
    "<ul>\n",
    "<li> Color with 14 subcategories, where gold color most frequent and sherry color least frequent<li> Nose with 12 subcategories, where peat most frequent and spicy the least<li> Body with 8 subcategories, where med most frequent and round the least<li> Palate with 15 subcategories, where sweet most frequest and big the least (called Pale on plots)<li> Finish with 19 subcategories, where dry finish most frequent and very finish the least <br>\n",
    "</ul>\n",
    "Additionally, there are four numerical variables:\n",
    "<ul>\n",
    "<li> Age with values from 8 to 20 years with mean age of ca. 10 years<li> % with values from 40% to 57% and mean value of 41%<li> 'dist' representing number of times the whiskey was distilled with values from 1 to 5, with 3 most frequent value<li> score with values from 55 to 90 and mean values of ca. 75 <br>\n",
    "</ul>\n",
    "Apart from that there exist a few categorical variables carrying information about the location of the distillery:\n",
    "<ul>\n",
    "<li>Region with 3 levels, 'High' being the most frequent and 'Islay' the least frequent<li>District with 15 levels, where 'Spey' is most frequent and 'Skye' the least<li>Regions with 9 levels, 'Spey' the most frequent and 'Capbell' the least \n",
    "</ul>\n",
    "<br> \n",
    "Additionally there exist a geo coordinates file with exact coordinates of the distilleries and a seperate one where distance from the given distillery is calculated to all other (1 x 109 vector). <br>\n",
    "The information about locations seem repeated few times in different variables and also have a clear inbalance:\n",
    "<ul><li>Majority of the whiskeys being made in Spey (52%) per District variable and 9 level district variable <li> ~82% are made in Highlands</ul> As significant majority of the whiskeys are made in Highlands, the three levels may carry not sufficient information for further modelling. On the other hand, 9 level variable and 13 level variable seem to be consistent based on the contribution of the Spey made liqour in the set however there are a few districts that have just one whikey. Due to that I will assume for further analysis that 9 level variable is better choice and drop the remaining ones. <br>\n",
    "Future considerations: <br>\n",
    "<li> Location could be replaced by east / west / south / north or similar buckets could be introduced to reduce imbalance in the variable<li> Alcohol percentage could be replaced by aggreagated categories <li> Whiskey age also could be replaced by aggregated categories"
   ]
  },
  {
   "cell_type": "markdown",
   "metadata": {},
   "source": [
    "## Feature reduction"
   ]
  },
  {
   "cell_type": "markdown",
   "metadata": {},
   "source": [
    "Based on the above I am removing the two redundant information columns"
   ]
  },
  {
   "cell_type": "code",
   "execution_count": 563,
   "metadata": {},
   "outputs": [
    {
     "name": "stdout",
     "output_type": "stream",
     "text": [
      "(109, 84)\n",
      "(109, 82)\n"
     ]
    }
   ],
   "source": [
    "print(df.shape)\n",
    "df.drop(labels=['region', 'district'], axis=1, inplace=True)  # dropping redundant \n",
    "print(df.shape)"
   ]
  },
  {
   "cell_type": "markdown",
   "metadata": {},
   "source": [
    "# Analysis assumptions and approach <a id='assumptions'></a>\n",
    "[top](#top)"
   ]
  },
  {
   "cell_type": "markdown",
   "metadata": {},
   "source": [
    "The whiskey I liked & recognize was <b> 'Aberlour' </b> so I will try to find what other whiskeys I might like."
   ]
  },
  {
   "cell_type": "code",
   "execution_count": 564,
   "metadata": {},
   "outputs": [
    {
     "data": {
      "text/html": [
       "<div>\n",
       "<style scoped>\n",
       "    .dataframe tbody tr th:only-of-type {\n",
       "        vertical-align: middle;\n",
       "    }\n",
       "\n",
       "    .dataframe tbody tr th {\n",
       "        vertical-align: top;\n",
       "    }\n",
       "\n",
       "    .dataframe thead th {\n",
       "        text-align: right;\n",
       "    }\n",
       "</style>\n",
       "<table border=\"1\" class=\"dataframe\">\n",
       "  <thead>\n",
       "    <tr style=\"text-align: right;\">\n",
       "      <th></th>\n",
       "      <th>name</th>\n",
       "      <th>wyne_color</th>\n",
       "      <th>yellow_color</th>\n",
       "      <th>v.pale_color</th>\n",
       "      <th>pale_color</th>\n",
       "      <th>p.gold_color</th>\n",
       "      <th>gold_color</th>\n",
       "      <th>o.gold_color</th>\n",
       "      <th>f.gold_color</th>\n",
       "      <th>bronze_color</th>\n",
       "      <th>...</th>\n",
       "      <th>%</th>\n",
       "      <th>islay</th>\n",
       "      <th>midland</th>\n",
       "      <th>spey</th>\n",
       "      <th>east</th>\n",
       "      <th>west</th>\n",
       "      <th>north</th>\n",
       "      <th>lowland</th>\n",
       "      <th>campbell</th>\n",
       "      <th>islands</th>\n",
       "    </tr>\n",
       "  </thead>\n",
       "  <tbody>\n",
       "    <tr>\n",
       "      <th>1</th>\n",
       "      <td>Aberlour</td>\n",
       "      <td>0</td>\n",
       "      <td>0</td>\n",
       "      <td>0</td>\n",
       "      <td>0</td>\n",
       "      <td>0</td>\n",
       "      <td>0</td>\n",
       "      <td>0</td>\n",
       "      <td>0</td>\n",
       "      <td>0</td>\n",
       "      <td>...</td>\n",
       "      <td>43</td>\n",
       "      <td>0</td>\n",
       "      <td>0</td>\n",
       "      <td>1</td>\n",
       "      <td>0</td>\n",
       "      <td>0</td>\n",
       "      <td>0</td>\n",
       "      <td>0</td>\n",
       "      <td>0</td>\n",
       "      <td>0</td>\n",
       "    </tr>\n",
       "  </tbody>\n",
       "</table>\n",
       "<p>1 rows × 82 columns</p>\n",
       "</div>"
      ],
      "text/plain": [
       "       name  wyne_color  yellow_color  v.pale_color  pale_color  p.gold_color  \\\n",
       "1  Aberlour           0             0             0           0             0   \n",
       "\n",
       "   gold_color  o.gold_color  f.gold_color  bronze_color   ...      %  islay  \\\n",
       "1           0             0             0             0   ...     43      0   \n",
       "\n",
       "   midland  spey  east  west  north   lowland  campbell  islands  \n",
       "1        0     1     0     0       0        0         0        0  \n",
       "\n",
       "[1 rows x 82 columns]"
      ]
     },
     "execution_count": 564,
     "metadata": {},
     "output_type": "execute_result"
    }
   ],
   "source": [
    "df.loc[df['name']=='Aberlour']"
   ]
  },
  {
   "cell_type": "code",
   "execution_count": 780,
   "metadata": {},
   "outputs": [
    {
     "name": "stdout",
     "output_type": "stream",
     "text": [
      "red_color :  1\n",
      "sweet_nose :  1\n",
      "rich_nose :  1\n",
      "soft_nose :  1\n",
      "med_body :  1\n",
      "full_body :  1\n",
      "round_body :  1\n",
      "smooth_body :  1\n",
      "full_pale :  1\n",
      "sherry_pale :  1\n",
      "fruit_pale :  1\n",
      "sweet_pale :  1\n",
      "spice_pale :  1\n",
      "clean_finish :  1\n",
      "ling_finish :  1\n",
      "age :  12\n",
      "dist :  4\n",
      "score :  83\n",
      "% :  43\n",
      "spey :  1\n"
     ]
    }
   ],
   "source": [
    "series = df.loc[df['name']=='Aberlour', df.columns[1:]].iloc[0]\n",
    "for j, item in enumerate(series):\n",
    "    if item>0:\n",
    "        print(df.columns[1:][j],': ',item)"
   ]
  },
  {
   "cell_type": "markdown",
   "metadata": {},
   "source": [
    "Some features of the selected whiskey:\n",
    "<ol><li>Made in Spey like 52% of whiskeys in the dataset <li> Score is high <li> Distilled 4 times which quite frequent <li> Aged 12 years, which is at 75% percentile <li> Color is red which not very frequent <li> Spice palate \n",
    "</ol>\n",
    "None of these features are outstanding compared to other whiskeys. A lot of whiskey contain similar features.<hr>\n",
    "\n",
    "####  Assumptions\n",
    "\n",
    "<ul><li>Whiskeys can be grouped by clustering <li> Some location information is redundant and is removed <li> Distances between the distilleries are disregarded <li> Exact geo position is not relevant <li> Score is an input feature - assuming it would available to the customer like a web ranking of liqours (normally one be tempted to predict score in a regression problem)\n",
    "</ul>\n",
    "<hr>\n",
    "\n",
    "#### Approach\n",
    "<ol>\n",
    "<li> Perform clustering:\n",
    "<ul><li>As majority of the data are categorical columns k-modes clustering is selected<li>Number of clusters is determined using <i>elbow</i> method</ul>\n",
    "<li> Build a supervised learning framework <ul><li>Build simple classification model <li>Random Forest classifier used <li> Model is used to determine feature importances <li> Classification performance is not essential - not checked </ul>\n",
    "<li> Determine which features decide to which group whiskey belongs <ul><li>Features can be compared using the feature importances from the classifier</ul>\n",
    "</ol>"
   ]
  },
  {
   "cell_type": "markdown",
   "metadata": {},
   "source": [
    "## Reducing columns"
   ]
  },
  {
   "cell_type": "code",
   "execution_count": 689,
   "metadata": {},
   "outputs": [
    {
     "data": {
      "text/plain": [
       "(109, 81)"
      ]
     },
     "execution_count": 689,
     "metadata": {},
     "output_type": "execute_result"
    }
   ],
   "source": [
    "data = df.drop(labels=['name'], axis=1)\n",
    "\n",
    "original_columns = data.columns\n",
    "\n",
    "data.shape"
   ]
  },
  {
   "cell_type": "markdown",
   "metadata": {},
   "source": [
    "## Transformation"
   ]
  },
  {
   "cell_type": "markdown",
   "metadata": {},
   "source": [
    "As there exist numerical values with incompatible units and greater values than 0, I am standardizing the data."
   ]
  },
  {
   "cell_type": "code",
   "execution_count": 690,
   "metadata": {
    "collapsed": true
   },
   "outputs": [],
   "source": [
    "from sklearn.preprocessing import MinMaxScaler"
   ]
  },
  {
   "cell_type": "markdown",
   "metadata": {},
   "source": [
    "Selecting the columns to tranform and keeping the scalers for decoding. As I am not planning for the classification in the supervised learning I am not worrying of data leak."
   ]
  },
  {
   "cell_type": "code",
   "execution_count": 692,
   "metadata": {},
   "outputs": [],
   "source": [
    "columns_to_transform = ['age', 'score', '%', 'dist']\n",
    "scalers = {}\n",
    "for col in columns_to_transform:\n",
    "    scaler = MinMaxScaler(feature_range=(0, 1))\n",
    "    new_column = scaler.fit_transform(X=np.array(data[col]).reshape(-1,1))\n",
    "    scalers[col] = scaler\n",
    "    data[col] = new_column"
   ]
  },
  {
   "cell_type": "code",
   "execution_count": 694,
   "metadata": {},
   "outputs": [
    {
     "data": {
      "text/html": [
       "<div>\n",
       "<style scoped>\n",
       "    .dataframe tbody tr th:only-of-type {\n",
       "        vertical-align: middle;\n",
       "    }\n",
       "\n",
       "    .dataframe tbody tr th {\n",
       "        vertical-align: top;\n",
       "    }\n",
       "\n",
       "    .dataframe thead th {\n",
       "        text-align: right;\n",
       "    }\n",
       "</style>\n",
       "<table border=\"1\" class=\"dataframe\">\n",
       "  <thead>\n",
       "    <tr style=\"text-align: right;\">\n",
       "      <th></th>\n",
       "      <th>age</th>\n",
       "      <th>score</th>\n",
       "      <th>%</th>\n",
       "      <th>dist</th>\n",
       "    </tr>\n",
       "  </thead>\n",
       "  <tbody>\n",
       "    <tr>\n",
       "      <th>count</th>\n",
       "      <td>109.000000</td>\n",
       "      <td>109.000000</td>\n",
       "      <td>109.000000</td>\n",
       "      <td>109.000000</td>\n",
       "    </tr>\n",
       "    <tr>\n",
       "      <th>mean</th>\n",
       "      <td>0.205657</td>\n",
       "      <td>0.588204</td>\n",
       "      <td>0.066379</td>\n",
       "      <td>0.548165</td>\n",
       "    </tr>\n",
       "    <tr>\n",
       "      <th>std</th>\n",
       "      <td>0.191300</td>\n",
       "      <td>0.198491</td>\n",
       "      <td>0.153998</td>\n",
       "      <td>0.213755</td>\n",
       "    </tr>\n",
       "    <tr>\n",
       "      <th>min</th>\n",
       "      <td>0.000000</td>\n",
       "      <td>0.000000</td>\n",
       "      <td>0.000000</td>\n",
       "      <td>0.000000</td>\n",
       "    </tr>\n",
       "    <tr>\n",
       "      <th>25%</th>\n",
       "      <td>0.083333</td>\n",
       "      <td>0.457143</td>\n",
       "      <td>0.000000</td>\n",
       "      <td>0.500000</td>\n",
       "    </tr>\n",
       "    <tr>\n",
       "      <th>50%</th>\n",
       "      <td>0.166667</td>\n",
       "      <td>0.600000</td>\n",
       "      <td>0.000000</td>\n",
       "      <td>0.500000</td>\n",
       "    </tr>\n",
       "    <tr>\n",
       "      <th>75%</th>\n",
       "      <td>0.333333</td>\n",
       "      <td>0.685714</td>\n",
       "      <td>0.000000</td>\n",
       "      <td>0.750000</td>\n",
       "    </tr>\n",
       "    <tr>\n",
       "      <th>max</th>\n",
       "      <td>1.000000</td>\n",
       "      <td>1.000000</td>\n",
       "      <td>1.000000</td>\n",
       "      <td>1.000000</td>\n",
       "    </tr>\n",
       "  </tbody>\n",
       "</table>\n",
       "</div>"
      ],
      "text/plain": [
       "              age       score           %        dist\n",
       "count  109.000000  109.000000  109.000000  109.000000\n",
       "mean     0.205657    0.588204    0.066379    0.548165\n",
       "std      0.191300    0.198491    0.153998    0.213755\n",
       "min      0.000000    0.000000    0.000000    0.000000\n",
       "25%      0.083333    0.457143    0.000000    0.500000\n",
       "50%      0.166667    0.600000    0.000000    0.500000\n",
       "75%      0.333333    0.685714    0.000000    0.750000\n",
       "max      1.000000    1.000000    1.000000    1.000000"
      ]
     },
     "execution_count": 694,
     "metadata": {},
     "output_type": "execute_result"
    }
   ],
   "source": [
    "data[columns_to_transform].describe()"
   ]
  },
  {
   "cell_type": "markdown",
   "metadata": {},
   "source": [
    "# Clustering <a id='clustering'></a>\n",
    "[top](#top)"
   ]
  },
  {
   "cell_type": "markdown",
   "metadata": {},
   "source": [
    "As the data contain categorical variables the typical k means clustering algorithm won't be feasible. I am selecting k-modes alternative first published by <i>Huang, Z.: Clustering large data sets with mixed numeric and categorical values, Proceedings of the First Pacific Asia Knowledge Discovery and Data Mining Conference, Singapore, pp. 21-34, 1997. </i><br><br>\n",
    "<a href=https://pypi.org/project/kmodes/#description>kmodes module documentation</a>\n",
    "<br><br>\n",
    "To determine the number of clusters I am using the well known <i>elbow</i> method used also for the k-means. The silhouette score is calculated using <i>sklearn</i> module."
   ]
  },
  {
   "cell_type": "code",
   "execution_count": 695,
   "metadata": {},
   "outputs": [],
   "source": [
    "from sklearn import metrics\n",
    "from kmodes.kmodes import KModes"
   ]
  },
  {
   "cell_type": "markdown",
   "metadata": {},
   "source": [
    "Obtaining labels for clusters for a range of n_clusters"
   ]
  },
  {
   "cell_type": "code",
   "execution_count": 696,
   "metadata": {
    "collapsed": true
   },
   "outputs": [],
   "source": [
    "predictions = []\n",
    "for n in range(2,14):\n",
    "    k_modes = KModes(n_clusters=n, max_iter=100)\n",
    "    predictions.append(k_modes.fit_predict(X=data))"
   ]
  },
  {
   "cell_type": "markdown",
   "metadata": {},
   "source": [
    "Calculating silhouette scores"
   ]
  },
  {
   "cell_type": "code",
   "execution_count": 697,
   "metadata": {},
   "outputs": [],
   "source": [
    "s_score = [metrics.silhouette_score(X=data, labels=pred) for pred in predictions]"
   ]
  },
  {
   "cell_type": "markdown",
   "metadata": {},
   "source": [
    "Plotting the score to determine best number of clusters for the dataset"
   ]
  },
  {
   "cell_type": "code",
   "execution_count": 698,
   "metadata": {},
   "outputs": [
    {
     "data": {
      "image/png": "[encoded data removed]",
      "text/plain": [
       "<Figure size 576x360 with 1 Axes>"
      ]
     },
     "metadata": {},
     "output_type": "display_data"
    }
   ],
   "source": [
    "plt.figure(figsize=(8,5))\n",
    "plt.title('Silhouette score', fontsize=16)\n",
    "plt.grid()\n",
    "plt.xticks(ticks=range(0,12), labels=range(2,14))\n",
    "plt.xlabel('n_clusters', fontsize=14)\n",
    "plt.ylabel('Score value', fontsize=14)\n",
    "plt.plot(s_score)\n",
    "plt.show()"
   ]
  },
  {
   "cell_type": "markdown",
   "metadata": {},
   "source": [
    "It would seem that from 7 to 12 n_clusters the score is creating a plateu with local minima at 8 and 12. Selecting n_clusters = 8"
   ]
  },
  {
   "cell_type": "code",
   "execution_count": 699,
   "metadata": {},
   "outputs": [],
   "source": [
    "km = KModes(n_clusters=8, max_iter=100)\n",
    "clusters_labels = km.fit_predict(X=data)"
   ]
  },
  {
   "cell_type": "markdown",
   "metadata": {},
   "source": [
    "Each Whiskey is labeled to be located in one of the 7 clusters "
   ]
  },
  {
   "cell_type": "code",
   "execution_count": 700,
   "metadata": {},
   "outputs": [
    {
     "data": {
      "text/plain": [
       "array([0, 7, 0, 3, 0, 3, 0, 3, 0, 0, 3, 0, 0, 0, 0, 7, 0, 0, 0, 0, 0, 0,\n",
       "       0, 0, 7, 3, 0, 0, 3, 0, 3, 0, 0, 0, 0, 0, 0, 0, 3, 3, 0, 0, 3, 0,\n",
       "       3, 3, 0, 0, 0, 4, 0, 0, 0, 3, 3, 0, 0, 6, 3, 0, 0, 3, 0, 3, 0, 0,\n",
       "       0, 0, 0, 3, 4, 2, 6, 0, 2, 3, 3, 0, 0, 2, 0, 0, 0, 6, 2, 0, 0, 2,\n",
       "       4, 0, 4, 0, 0, 3, 0, 0, 0, 2, 3, 0, 0, 5, 0, 1, 5, 5, 0, 2, 4],\n",
       "      dtype=uint16)"
      ]
     },
     "execution_count": 700,
     "metadata": {},
     "output_type": "execute_result"
    }
   ],
   "source": [
    "cluster_labels"
   ]
  },
  {
   "cell_type": "markdown",
   "metadata": {},
   "source": [
    "Now, let's add the labels to the dataset"
   ]
  },
  {
   "cell_type": "code",
   "execution_count": 701,
   "metadata": {
    "collapsed": true
   },
   "outputs": [],
   "source": [
    "data['target'] = cluster_labels"
   ]
  },
  {
   "cell_type": "markdown",
   "metadata": {},
   "source": [
    "Let's look up the 'Aberlour' to see to which group it belongs, using this grouping I will be able to find similar Whiskeys. As the 'Aberlour' had index 1 in the original <i>df</i> Let's look up what cluster it belongs to."
   ]
  },
  {
   "cell_type": "code",
   "execution_count": 702,
   "metadata": {},
   "outputs": [
    {
     "data": {
      "text/plain": [
       "0"
      ]
     },
     "execution_count": 702,
     "metadata": {},
     "output_type": "execute_result"
    }
   ],
   "source": [
    "data['name'] = df['name']\n",
    "data.loc[data['name']=='Aberlour','target'].iloc[0]"
   ]
  },
  {
   "cell_type": "markdown",
   "metadata": {},
   "source": [
    "So, it is in the cluster 0. Let's see what other similar whiskeys I might like."
   ]
  },
  {
   "cell_type": "code",
   "execution_count": 703,
   "metadata": {},
   "outputs": [
    {
     "data": {
      "text/plain": [
       "0    65\n",
       "3    22\n",
       "2     7\n",
       "4     5\n",
       "7     3\n",
       "6     3\n",
       "5     3\n",
       "1     1\n",
       "Name: target, dtype: int64"
      ]
     },
     "execution_count": 703,
     "metadata": {},
     "output_type": "execute_result"
    }
   ],
   "source": [
    "data['target'].value_counts()"
   ]
  },
  {
   "cell_type": "markdown",
   "metadata": {},
   "source": [
    "Turns out the 0 is the biggest cluster with 64 other whiskeys. Plenty to choose from."
   ]
  },
  {
   "cell_type": "code",
   "execution_count": 704,
   "metadata": {},
   "outputs": [
    {
     "name": "stdout",
     "output_type": "stream",
     "text": [
      "10           Ben Nevis\n",
      "51          Glen Keith\n",
      "88          North Port\n",
      "3              Ardmore\n",
      "9                Banff\n",
      "24            Coleburn\n",
      "93     Saint Magdalene\n",
      "104          Tobermory\n",
      "36         Glen  Albyn\n",
      "25          Convalmore\n",
      "39           Glencadam\n",
      "32            Deanston\n",
      "0            Aberfeldy\n",
      "7            Balmenach\n",
      "73           Kinclaith\n",
      "11            Benriach\n",
      "65            Glenugie\n",
      "54           Glenlochy\n",
      "82            Lochside\n",
      "103          Teaninich\n",
      "96            Speyburn\n",
      "22              Cardhu\n",
      "27       Craigellachie\n",
      "75            Knockdhu\n",
      "62           Glen Spey\n",
      "21         Caperdonich\n",
      "49           Glengoyne\n",
      "28           Dailuaine\n",
      "13           Benromach\n",
      "69           Inchgower\n",
      "            ...       \n",
      "85            Millburn\n",
      "74           Knockando\n",
      "86          Miltonduff\n",
      "68            Imperial\n",
      "94               Scapa\n",
      "102         Tamnavulin\n",
      "108       Tullibardine\n",
      "31          Dalwhinnie\n",
      "48       Glenglassaugh\n",
      "55          Glenlossie\n",
      "107            Tormore\n",
      "50          Glen Grant\n",
      "17             Brackla\n",
      "12           Benrinnes\n",
      "99          Strathisla\n",
      "90          Port Ellen\n",
      "95           Singleton\n",
      "60          Glenrothes\n",
      "16             Bowmore\n",
      "87            Mortlach\n",
      "1             Aberlour\n",
      "79            Linkwood\n",
      "29          Dallas Dhu\n",
      "83            Longmorn\n",
      "2              Ardberg\n",
      "4         Auchentoshan\n",
      "8             Balvenie\n",
      "45         Glenfarclas\n",
      "84            Macallan\n",
      "67       Highland Park\n",
      "Name: name, Length: 65, dtype: object\n"
     ]
    }
   ],
   "source": [
    "recommended_whiskey_names = data.loc[data['target']==0, 'name']\n",
    "print(recommended_whiskey_names)"
   ]
  },
  {
   "cell_type": "markdown",
   "metadata": {},
   "source": [
    "# Feature importances <a id='feat_imp'></a>\n",
    "[top](#top)"
   ]
  },
  {
   "cell_type": "code",
   "execution_count": 721,
   "metadata": {},
   "outputs": [],
   "source": [
    "from sklearn.ensemble import RandomForestClassifier\n",
    "from sklearn.model_selection import train_test_split"
   ]
  },
  {
   "cell_type": "markdown",
   "metadata": {},
   "source": [
    "As a way to understand which features determine a whiskey belong to certain category I will create simple non-linear classification model that support feature importances. "
   ]
  },
  {
   "cell_type": "markdown",
   "metadata": {},
   "source": [
    "Let's obtain x and y"
   ]
  },
  {
   "cell_type": "code",
   "execution_count": 710,
   "metadata": {},
   "outputs": [
    {
     "data": {
      "text/plain": [
       "(109,)"
      ]
     },
     "execution_count": 710,
     "metadata": {},
     "output_type": "execute_result"
    }
   ],
   "source": [
    "y = data['target']\n",
    "y.shape"
   ]
  },
  {
   "cell_type": "markdown",
   "metadata": {},
   "source": [
    "Selecting all the columns without the name"
   ]
  },
  {
   "cell_type": "code",
   "execution_count": 716,
   "metadata": {
    "collapsed": true
   },
   "outputs": [
    {
     "data": {
      "text/plain": [
       "(109, 81)"
      ]
     },
     "execution_count": 716,
     "metadata": {},
     "output_type": "execute_result"
    }
   ],
   "source": [
    "x = df.iloc[:,1:]\n",
    "x.shape"
   ]
  },
  {
   "cell_type": "code",
   "execution_count": 729,
   "metadata": {
    "collapsed": true
   },
   "outputs": [],
   "source": [
    "def split_into_train_test(x, y, val_size):\n",
    "    x_train, x_val, y_train, y_val = train_test_split(x, y, test_size=val_size)\n",
    "    return x_train, y_train, x_val, y_val"
   ]
  },
  {
   "cell_type": "code",
   "execution_count": 730,
   "metadata": {},
   "outputs": [],
   "source": [
    "x_train, y_train, x_val, y_val = split_into_train_test(x, y, 0.15)"
   ]
  },
  {
   "cell_type": "markdown",
   "metadata": {},
   "source": [
    "Scalling "
   ]
  },
  {
   "cell_type": "code",
   "execution_count": 731,
   "metadata": {
    "collapsed": true
   },
   "outputs": [
    {
     "name": "stderr",
     "output_type": "stream",
     "text": [
      "C:\\Users\\LaptopM\\Anaconda3\\lib\\site-packages\\ipykernel_launcher.py:8: SettingWithCopyWarning: \n",
      "A value is trying to be set on a copy of a slice from a DataFrame.\n",
      "Try using .loc[row_indexer,col_indexer] = value instead\n",
      "\n",
      "See the caveats in the documentation: http://pandas.pydata.org/pandas-docs/stable/indexing.html#indexing-view-versus-copy\n",
      "  \n",
      "C:\\Users\\LaptopM\\Anaconda3\\lib\\site-packages\\ipykernel_launcher.py:9: SettingWithCopyWarning: \n",
      "A value is trying to be set on a copy of a slice from a DataFrame.\n",
      "Try using .loc[row_indexer,col_indexer] = value instead\n",
      "\n",
      "See the caveats in the documentation: http://pandas.pydata.org/pandas-docs/stable/indexing.html#indexing-view-versus-copy\n",
      "  if __name__ == '__main__':\n",
      "C:\\Users\\LaptopM\\Anaconda3\\lib\\site-packages\\ipykernel_launcher.py:8: SettingWithCopyWarning: \n",
      "A value is trying to be set on a copy of a slice from a DataFrame.\n",
      "Try using .loc[row_indexer,col_indexer] = value instead\n",
      "\n",
      "See the caveats in the documentation: http://pandas.pydata.org/pandas-docs/stable/indexing.html#indexing-view-versus-copy\n",
      "  \n",
      "C:\\Users\\LaptopM\\Anaconda3\\lib\\site-packages\\ipykernel_launcher.py:9: SettingWithCopyWarning: \n",
      "A value is trying to be set on a copy of a slice from a DataFrame.\n",
      "Try using .loc[row_indexer,col_indexer] = value instead\n",
      "\n",
      "See the caveats in the documentation: http://pandas.pydata.org/pandas-docs/stable/indexing.html#indexing-view-versus-copy\n",
      "  if __name__ == '__main__':\n",
      "C:\\Users\\LaptopM\\Anaconda3\\lib\\site-packages\\ipykernel_launcher.py:8: SettingWithCopyWarning: \n",
      "A value is trying to be set on a copy of a slice from a DataFrame.\n",
      "Try using .loc[row_indexer,col_indexer] = value instead\n",
      "\n",
      "See the caveats in the documentation: http://pandas.pydata.org/pandas-docs/stable/indexing.html#indexing-view-versus-copy\n",
      "  \n",
      "C:\\Users\\LaptopM\\Anaconda3\\lib\\site-packages\\ipykernel_launcher.py:9: SettingWithCopyWarning: \n",
      "A value is trying to be set on a copy of a slice from a DataFrame.\n",
      "Try using .loc[row_indexer,col_indexer] = value instead\n",
      "\n",
      "See the caveats in the documentation: http://pandas.pydata.org/pandas-docs/stable/indexing.html#indexing-view-versus-copy\n",
      "  if __name__ == '__main__':\n",
      "C:\\Users\\LaptopM\\Anaconda3\\lib\\site-packages\\ipykernel_launcher.py:8: SettingWithCopyWarning: \n",
      "A value is trying to be set on a copy of a slice from a DataFrame.\n",
      "Try using .loc[row_indexer,col_indexer] = value instead\n",
      "\n",
      "See the caveats in the documentation: http://pandas.pydata.org/pandas-docs/stable/indexing.html#indexing-view-versus-copy\n",
      "  \n",
      "C:\\Users\\LaptopM\\Anaconda3\\lib\\site-packages\\ipykernel_launcher.py:9: SettingWithCopyWarning: \n",
      "A value is trying to be set on a copy of a slice from a DataFrame.\n",
      "Try using .loc[row_indexer,col_indexer] = value instead\n",
      "\n",
      "See the caveats in the documentation: http://pandas.pydata.org/pandas-docs/stable/indexing.html#indexing-view-versus-copy\n",
      "  if __name__ == '__main__':\n"
     ]
    }
   ],
   "source": [
    "columns_to_transform = ['age', 'score', '%', 'dist']\n",
    "scalers = {}\n",
    "for col in columns_to_transform:\n",
    "    scaler = MinMaxScaler(feature_range=(0, 1))\n",
    "    new_column = scaler.fit_transform(X=np.array(x_train[col]).reshape(-1,1))\n",
    "    new_column_val = scaler.transform(X=np.array(x_val[col]).reshape(-1,1))\n",
    "    scalers[col] = scaler\n",
    "    x_train[col] = new_column\n",
    "    x_val[col] = new_column_val"
   ]
  },
  {
   "cell_type": "markdown",
   "metadata": {},
   "source": [
    "Transform to make the numerical scaled values more normal"
   ]
  },
  {
   "cell_type": "code",
   "execution_count": 736,
   "metadata": {
    "collapsed": true
   },
   "outputs": [],
   "source": [
    "from sklearn.preprocessing import PowerTransformer"
   ]
  },
  {
   "cell_type": "code",
   "execution_count": 738,
   "metadata": {
    "collapsed": true
   },
   "outputs": [],
   "source": [
    "def apply_transform(x_tr, x_va, cols_to_trans):\n",
    "    \"\"\"\n",
    "    This function applies the Yeo Johnson tranform to make the data distribution\n",
    "    more normal\n",
    "    \"\"\"\n",
    "    lambdas_dict = {}\n",
    "    for col in cols_to_trans:\n",
    "        pt = PowerTransformer(method='yeo-johnson')\n",
    "        x_tr[col] = pt.fit_transform(x_tr[col].values.reshape(-1,1))\n",
    "        x_va[col] = pt.transform(x_va[col].values.reshape(-1,1))\n",
    "        lambdas_dict[col] = pt.lambdas_\n",
    "    return x_tr, x_va, lambdas_dict"
   ]
  },
  {
   "cell_type": "code",
   "execution_count": 740,
   "metadata": {
    "collapsed": true
   },
   "outputs": [
    {
     "name": "stderr",
     "output_type": "stream",
     "text": [
      "C:\\Users\\LaptopM\\Anaconda3\\lib\\site-packages\\ipykernel_launcher.py:9: SettingWithCopyWarning: \n",
      "A value is trying to be set on a copy of a slice from a DataFrame.\n",
      "Try using .loc[row_indexer,col_indexer] = value instead\n",
      "\n",
      "See the caveats in the documentation: http://pandas.pydata.org/pandas-docs/stable/indexing.html#indexing-view-versus-copy\n",
      "  if __name__ == '__main__':\n",
      "C:\\Users\\LaptopM\\Anaconda3\\lib\\site-packages\\ipykernel_launcher.py:10: SettingWithCopyWarning: \n",
      "A value is trying to be set on a copy of a slice from a DataFrame.\n",
      "Try using .loc[row_indexer,col_indexer] = value instead\n",
      "\n",
      "See the caveats in the documentation: http://pandas.pydata.org/pandas-docs/stable/indexing.html#indexing-view-versus-copy\n",
      "  # Remove the CWD from sys.path while we load stuff.\n",
      "C:\\Users\\LaptopM\\Anaconda3\\lib\\site-packages\\ipykernel_launcher.py:9: SettingWithCopyWarning: \n",
      "A value is trying to be set on a copy of a slice from a DataFrame.\n",
      "Try using .loc[row_indexer,col_indexer] = value instead\n",
      "\n",
      "See the caveats in the documentation: http://pandas.pydata.org/pandas-docs/stable/indexing.html#indexing-view-versus-copy\n",
      "  if __name__ == '__main__':\n",
      "C:\\Users\\LaptopM\\Anaconda3\\lib\\site-packages\\ipykernel_launcher.py:10: SettingWithCopyWarning: \n",
      "A value is trying to be set on a copy of a slice from a DataFrame.\n",
      "Try using .loc[row_indexer,col_indexer] = value instead\n",
      "\n",
      "See the caveats in the documentation: http://pandas.pydata.org/pandas-docs/stable/indexing.html#indexing-view-versus-copy\n",
      "  # Remove the CWD from sys.path while we load stuff.\n",
      "C:\\Users\\LaptopM\\Anaconda3\\lib\\site-packages\\ipykernel_launcher.py:9: SettingWithCopyWarning: \n",
      "A value is trying to be set on a copy of a slice from a DataFrame.\n",
      "Try using .loc[row_indexer,col_indexer] = value instead\n",
      "\n",
      "See the caveats in the documentation: http://pandas.pydata.org/pandas-docs/stable/indexing.html#indexing-view-versus-copy\n",
      "  if __name__ == '__main__':\n",
      "C:\\Users\\LaptopM\\Anaconda3\\lib\\site-packages\\ipykernel_launcher.py:10: SettingWithCopyWarning: \n",
      "A value is trying to be set on a copy of a slice from a DataFrame.\n",
      "Try using .loc[row_indexer,col_indexer] = value instead\n",
      "\n",
      "See the caveats in the documentation: http://pandas.pydata.org/pandas-docs/stable/indexing.html#indexing-view-versus-copy\n",
      "  # Remove the CWD from sys.path while we load stuff.\n",
      "C:\\Users\\LaptopM\\Anaconda3\\lib\\site-packages\\ipykernel_launcher.py:9: SettingWithCopyWarning: \n",
      "A value is trying to be set on a copy of a slice from a DataFrame.\n",
      "Try using .loc[row_indexer,col_indexer] = value instead\n",
      "\n",
      "See the caveats in the documentation: http://pandas.pydata.org/pandas-docs/stable/indexing.html#indexing-view-versus-copy\n",
      "  if __name__ == '__main__':\n",
      "C:\\Users\\LaptopM\\Anaconda3\\lib\\site-packages\\ipykernel_launcher.py:10: SettingWithCopyWarning: \n",
      "A value is trying to be set on a copy of a slice from a DataFrame.\n",
      "Try using .loc[row_indexer,col_indexer] = value instead\n",
      "\n",
      "See the caveats in the documentation: http://pandas.pydata.org/pandas-docs/stable/indexing.html#indexing-view-versus-copy\n",
      "  # Remove the CWD from sys.path while we load stuff.\n"
     ]
    }
   ],
   "source": [
    "x_train, x_val, labdas = apply_transform(x_train, x_val, columns_to_transform)"
   ]
  },
  {
   "cell_type": "markdown",
   "metadata": {},
   "source": [
    "Training the model, the model should be optimized with cross-validation over the x_train and y_train and then a score should be obtained from predicting on x_val. However for this particular task it is not necessary."
   ]
  },
  {
   "cell_type": "code",
   "execution_count": 742,
   "metadata": {
    "collapsed": true
   },
   "outputs": [],
   "source": [
    "rfc = RandomForestClassifier(n_estimators=100)"
   ]
  },
  {
   "cell_type": "code",
   "execution_count": 744,
   "metadata": {},
   "outputs": [
    {
     "data": {
      "text/plain": [
       "RandomForestClassifier()"
      ]
     },
     "execution_count": 744,
     "metadata": {},
     "output_type": "execute_result"
    }
   ],
   "source": [
    "rfc.fit(x_train, y_train)"
   ]
  },
  {
   "cell_type": "markdown",
   "metadata": {},
   "source": [
    "Obtaining feauture importances"
   ]
  },
  {
   "cell_type": "code",
   "execution_count": 754,
   "metadata": {},
   "outputs": [],
   "source": [
    "features_importances = pd.DataFrame({'Importance': rfc.feature_importances_,\n",
    "                                    'Feature name': x_train.columns})\n",
    "features_importances.sort_values(by='Importance', ascending=False, inplace=True)"
   ]
  },
  {
   "cell_type": "markdown",
   "metadata": {},
   "source": [
    "Plotting the importances"
   ]
  },
  {
   "cell_type": "code",
   "execution_count": 761,
   "metadata": {
    "scrolled": true
   },
   "outputs": [
    {
     "data": {
      "image/png": "[encoded data removed]",
      "text/plain": [
       "<Figure size 1440x360 with 1 Axes>"
      ]
     },
     "metadata": {},
     "output_type": "display_data"
    }
   ],
   "source": [
    "plt.figure(figsize=(20,5))\n",
    "plt.title('Feature importances (10 most relevant)', fontsize=18)\n",
    "sns.barplot(data=features_importances.iloc[:10], x='Feature name', y='Importance')\n",
    "plt.xlabel('Feature', fontsize=14)\n",
    "plt.ylabel('Importance', fontsize=14)\n",
    "plt.show()"
   ]
  },
  {
   "cell_type": "markdown",
   "metadata": {},
   "source": [
    "# Conclusions <a id='conclusions'></a>\n",
    "[top](#top)"
   ]
  },
  {
   "cell_type": "markdown",
   "metadata": {},
   "source": [
    "<p> It was determined that a reasonable number of clusters is 8 to categorize the whiskeys. Majority of the whiskeys belonged to the category of the selected whiskey. Use of the clustering enabled to propose similar whiskey names to try. </p> \n",
    "<p> Use of the random forest classifier enabled to obtain a very quick result in the form of the feature importances. This factor enables to prioritize the importance of the model input features. Among the 83 features 10 most important are plotted.</p><p> Interestingly enough, age was determined to be the most important. Score, number of distillation cycles and alcohol percentage are found to be also imporant. Additionally to that, eastern region could be a good diffentiator. These features does not require testing the liquor and can be read off the bottle which make an interesting conclusion that 5 out of 10 most important differentiations for the groups can be obtained by comparing bottles.</p>\n",
    "<p> Other 5 features are related to the taste: body, nose and finish - the palate has not been chosen to be important enough. Neither was color. </p>\n",
    "\n",
    "<p> It should be however noted that importance omits the corelation between the features, the direction of the impact the variable have on the clusters and interpration based purely on the importances is a good starting point but drawing conclusions can become a challenge </p>"
   ]
  },
  {
   "cell_type": "code",
   "execution_count": null,
   "metadata": {
    "collapsed": true
   },
   "outputs": [],
   "source": []
  }
 ],
 "metadata": {
  "kernelspec": {
   "display_name": "Python 3",
   "language": "python",
   "name": "python3"
  },
  "language_info": {
   "codemirror_mode": {
    "name": "ipython",
    "version": 3
   },
   "file_extension": ".py",
   "mimetype": "text/x-python",
   "name": "python",
   "nbconvert_exporter": "python",
   "pygments_lexer": "ipython3",
   "version": "3.6.6"
  },
  "varInspector": {
   "cols": {
    "lenName": 16,
    "lenType": 16,
    "lenVar": "80"
   },
   "kernels_config": {
    "python": {
     "delete_cmd_postfix": "",
     "delete_cmd_prefix": "del ",
     "library": "var_list.py",
     "varRefreshCmd": "print(var_dic_list())"
    },
    "r": {
     "delete_cmd_postfix": ") ",
     "delete_cmd_prefix": "rm(",
     "library": "var_list.r",
     "varRefreshCmd": "cat(var_dic_list()) "
    }
   },
   "types_to_exclude": [
    "module",
    "function",
    "builtin_function_or_method",
    "instance",
    "_Feature"
   ],
   "window_display": true
  }
 },
 "nbformat": 4,
 "nbformat_minor": 2
}
